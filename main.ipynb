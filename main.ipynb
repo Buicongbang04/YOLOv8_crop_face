{
 "cells": [
  {
   "cell_type": "code",
   "execution_count": 1,
   "metadata": {},
   "outputs": [
    {
     "name": "stdout",
     "output_type": "stream",
     "text": [
      "WARNING  Ultralytics settings reset to default values. This may be due to a possible problem with your settings or a recent ultralytics package update. \n",
      "View settings with 'yolo settings' or at 'C:\\Users\\Admin\\AppData\\Roaming\\Ultralytics\\settings.yaml'\n",
      "Update settings with 'yolo settings key=value', i.e. 'yolo settings runs_dir=path/to/dir'. For help see https://docs.ultralytics.com/quickstart/#ultralytics-settings.\n"
     ]
    }
   ],
   "source": [
    "from ultralytics import YOLO\n",
    "import cv2"
   ]
  },
  {
   "cell_type": "code",
   "execution_count": 20,
   "metadata": {},
   "outputs": [
    {
     "name": "stdout",
     "output_type": "stream",
     "text": [
      "\n",
      "image 1/1 D:\\NCKH\\YOLOv10_Face_Detection\\crop_face\\images\\face.jpg: 384x640 300 faces, 56.4ms\n",
      "Speed: 5.4ms preprocess, 56.4ms inference, 7.0ms postprocess per image at shape (1, 3, 384, 640)\n",
      "All detected faces have been saved to the directory: predicts\n"
     ]
    },
    {
     "ename": "",
     "evalue": "",
     "output_type": "error",
     "traceback": [
      "\u001b[1;31mThe Kernel crashed while executing code in the current cell or a previous cell. \n",
      "\u001b[1;31mPlease review the code in the cell(s) to identify a possible cause of the failure. \n",
      "\u001b[1;31mClick <a href='https://aka.ms/vscodeJupyterKernelCrash'>here</a> for more info. \n",
      "\u001b[1;31mView Jupyter <a href='command:jupyter.viewOutput'>log</a> for further details."
     ]
    }
   ],
   "source": [
    "from ultralytics import YOLO\n",
    "import cv2\n",
    "import os\n",
    "\n",
    "model = YOLO(\"D:\\\\NCKH\\\\YOLOv10_Face_Detection\\\\yolo-face\\\\yolov8n-face.pt\")\n",
    "\n",
    "image_path = r\"D:\\NCKH\\YOLOv10_Face_Detection\\crop_face\\images\\face.jpg\"\n",
    "img = cv2.imread(image_path)\n",
    "\n",
    "results = model(image_path)\n",
    "\n",
    "output_dir = \"predicts\"\n",
    "os.makedirs(output_dir, exist_ok=True)\n",
    "\n",
    "for idx, result in enumerate(results):\n",
    "    boxes = result.boxes.xyxy.tolist() \n",
    "    \n",
    "    for i, box in enumerate(boxes):\n",
    "        tl_x = int(box[0])\n",
    "        tl_y = int(box[1])\n",
    "        br_x = int(box[2])\n",
    "        br_y = int(box[3])\n",
    "        \n",
    "        cropped_face = img[tl_y:br_y, tl_x:br_x]\n",
    "        cv2.imshow('face', cropped_face)\n",
    "        \n",
    "        output_path = os.path.join(output_dir, f'face_{idx + 1}_{i + 1}.jpg')\n",
    "        cv2.imwrite(output_path, cropped_face)\n"
   ]
  }
 ],
 "metadata": {
  "kernelspec": {
   "display_name": "face",
   "language": "python",
   "name": "python3"
  },
  "language_info": {
   "codemirror_mode": {
    "name": "ipython",
    "version": 3
   },
   "file_extension": ".py",
   "mimetype": "text/x-python",
   "name": "python",
   "nbconvert_exporter": "python",
   "pygments_lexer": "ipython3",
   "version": "3.10.0"
  }
 },
 "nbformat": 4,
 "nbformat_minor": 2
}
